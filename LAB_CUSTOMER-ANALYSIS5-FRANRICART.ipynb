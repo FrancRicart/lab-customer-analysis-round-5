{
 "cells": [
  {
   "cell_type": "markdown",
   "id": "0f25e6de",
   "metadata": {},
   "source": [
    "Lab | Customer Analysis Round 5\n",
    "For this lab, we still keep using the marketing_customer_analysis.csv file that you can find in the files_for_lab folder.\n",
    "\n",
    "Get the data\n",
    "We are using the marketing_customer_analysis.csv file.\n",
    "\n",
    "Dealing with the data\n",
    "Already done in the round 2.\n",
    "\n",
    "Explore the data\n",
    "Done in the round 3.\n",
    "\n",
    "Processing Data\n",
    "(Further processing...)\n",
    "\n",
    "1. X-y split.\n",
    "2. Normalize (numerical)."
   ]
  },
  {
   "cell_type": "code",
   "execution_count": null,
   "id": "1995806e",
   "metadata": {},
   "outputs": [],
   "source": [
    "Processing Data\n",
    "X-y split\n"
   ]
  },
  {
   "cell_type": "markdown",
   "id": "a23e742c",
   "metadata": {},
   "source": [
    "import pandas as pd\n",
    "import numpy as np\n",
    "import matplotlib.pyplot as plt\n",
    "import seaborn as sns \n",
    "%matplotlib inline"
   ]
  },
  {
   "cell_type": "code",
   "execution_count": null,
   "id": "a0ed9e16",
   "metadata": {},
   "outputs": [],
   "source": [
    "#IMPORT AND CHECK FILE1\n",
    "\n",
    "data = pd.read_csv(\"files_for_lab/csv_files/marketing_customer_analysis.csv\")"
   ]
  },
  {
   "cell_type": "code",
   "execution_count": null,
   "id": "cec2ecb0",
   "metadata": {},
   "outputs": [],
   "source": [
    "data.head()"
   ]
  },
  {
   "cell_type": "code",
   "execution_count": null,
   "id": "6efdc739",
   "metadata": {},
   "outputs": [],
   "source": [
    "from sklearn.linear_model import LinearRegression\n",
    "from sklearn.metrics import mean_squared_error, r2_score"
   ]
  },
  {
   "cell_type": "markdown",
   "id": "1f1e75e1",
   "metadata": {},
   "source": [
    "\"y\" for the column that we want to predict.\n",
    "\"X\" for the column that we want to use to make the predictions."
   ]
  },
  {
   "cell_type": "code",
   "execution_count": null,
   "id": "a6418feb",
   "metadata": {},
   "outputs": [],
   "source": [
    "y = numerical['Total Claim Amount']\n",
    "x = numerical.drop(['Total Claim Amount'], axis=1)"
   ]
  },
  {
   "cell_type": "code",
   "execution_count": null,
   "id": "2fadd93b",
   "metadata": {},
   "outputs": [],
   "source": [
    "from sklearn import linear_model\n",
    "from sklearn.metrics import mean_squared_error"
   ]
  },
  {
   "cell_type": "markdown",
   "id": "18b73416",
   "metadata": {},
   "source": [
    "Normalize (numerical)"
   ]
  },
  {
   "cell_type": "code",
   "execution_count": null,
   "id": "8be12f06",
   "metadata": {},
   "outputs": [],
   "source": [
    "from sklearn.preprocessing import Normalizer\n",
    "from sklearn.preprocessing import MinMaxScaler\n",
    "\n",
    "transformer = MinMaxScaler().fit(x)\n",
    "x_standarized = transformer.transform(x)\n",
    "print(x_standarized.shape)\n",
    "x_standarized\n",
    "pd.DataFrame(x_standarized, columns=x.columns)"
   ]
  }
 ],
 "metadata": {
  "kernelspec": {
   "display_name": "Python 3 (ipykernel)",
   "language": "python",
   "name": "python3"
  },
  "language_info": {
   "codemirror_mode": {
    "name": "ipython",
    "version": 3
   },
   "file_extension": ".py",
   "mimetype": "text/x-python",
   "name": "python",
   "nbconvert_exporter": "python",
   "pygments_lexer": "ipython3",
   "version": "3.9.12"
  }
 },
 "nbformat": 4,
 "nbformat_minor": 5
}
